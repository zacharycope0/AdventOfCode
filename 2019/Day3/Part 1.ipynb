{
 "cells": [
  {
   "cell_type": "code",
   "execution_count": 5,
   "metadata": {},
   "outputs": [],
   "source": [
    "path = open('path.txt','r').read().split()"
   ]
  },
  {
   "cell_type": "code",
   "execution_count": 6,
   "metadata": {},
   "outputs": [],
   "source": [
    "path[0] = path[0].split(',')"
   ]
  },
  {
   "cell_type": "code",
   "execution_count": 7,
   "metadata": {},
   "outputs": [],
   "source": [
    "path[1] = path[1].split(',')"
   ]
  },
  {
   "cell_type": "code",
   "execution_count": 21,
   "metadata": {},
   "outputs": [],
   "source": [
    "#Determine size of the matrix to use\n",
    "def size_of_matrix(wire):\n",
    "    \n",
    "    #Store MAX values\n",
    "    MAX_Y = 0\n",
    "    MIN_Y=0\n",
    "    MAX_X = 0\n",
    "    MIN_X=0\n",
    "    \n",
    "    #Store postion of wire\n",
    "    y = 0\n",
    "    x = 0\n",
    "    \n",
    "    for index in range(len(path[0])):\n",
    "        if wire[index][0] == 'R':\n",
    "            x += int(wire[index][1:])\n",
    "            if MAX_X < x:\n",
    "                MAX_X = x\n",
    "        elif wire[index][0] == 'L':\n",
    "            x -= int(wire[index][1:])\n",
    "            if MIN_X > x:\n",
    "                MIN_X = x\n",
    "        elif wire[index][0] == 'D':\n",
    "            y -= int(wire[index][1:])\n",
    "            if MIN_Y > y:\n",
    "                MIN_Y = y\n",
    "        elif wire[index][0] == 'U':\n",
    "            y += int(wire[index][1:])\n",
    "            if MAX_Y < y:\n",
    "                MAX_Y = y\n",
    "                \n",
    "    return [MAX_Y,MIN_Y,MAX_X,MIN_X]            \n",
    "            \n",
    "        \n",
    "            "
   ]
  },
  {
   "cell_type": "code",
   "execution_count": 27,
   "metadata": {},
   "outputs": [],
   "source": [
    "wire0 = size_of_matrix(path[0])\n",
    "wire1 = size_of_matrix(path[1])\n",
    "\n",
    "WIRE_MATRIX = [max(wire0[0],wire1[0]),min(wire0[1],wire1[1]),max(wire0[2],wire1[2]),min(wire0[3],wire1[3])]"
   ]
  },
  {
   "cell_type": "code",
   "execution_count": 28,
   "metadata": {},
   "outputs": [
    {
     "data": {
      "text/plain": [
       "[1955, -6196, 1269, -9401]"
      ]
     },
     "execution_count": 28,
     "metadata": {},
     "output_type": "execute_result"
    }
   ],
   "source": [
    "size_of_matrix(path[1])"
   ]
  },
  {
   "cell_type": "code",
   "execution_count": 29,
   "metadata": {},
   "outputs": [
    {
     "data": {
      "text/plain": [
       "[10865, -2187, 4511, -5343]"
      ]
     },
     "execution_count": 29,
     "metadata": {},
     "output_type": "execute_result"
    }
   ],
   "source": [
    "size_of_matrix(path[0])"
   ]
  },
  {
   "cell_type": "code",
   "execution_count": 30,
   "metadata": {},
   "outputs": [
    {
     "data": {
      "text/plain": [
       "[10865, -6196, 4511, -9401]"
      ]
     },
     "execution_count": 30,
     "metadata": {},
     "output_type": "execute_result"
    }
   ],
   "source": [
    "WIRE_MATRIX"
   ]
  },
  {
   "cell_type": "code",
   "execution_count": null,
   "metadata": {},
   "outputs": [],
   "source": []
  }
 ],
 "metadata": {
  "kernelspec": {
   "display_name": "Python 3",
   "language": "python",
   "name": "python3"
  },
  "language_info": {
   "codemirror_mode": {
    "name": "ipython",
    "version": 3
   },
   "file_extension": ".py",
   "mimetype": "text/x-python",
   "name": "python",
   "nbconvert_exporter": "python",
   "pygments_lexer": "ipython3",
   "version": "3.7.3"
  }
 },
 "nbformat": 4,
 "nbformat_minor": 2
}
